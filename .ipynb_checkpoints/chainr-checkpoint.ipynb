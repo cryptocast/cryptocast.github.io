{
 "cells": [
  {
   "cell_type": "code",
   "execution_count": null,
   "metadata": {
    "collapsed": true
   },
   "outputs": [],
   "source": [
    "import pandas as pd, matplotlib.pyplot as plt"
   ]
  },
  {
   "cell_type": "code",
   "execution_count": null,
   "metadata": {
    "collapsed": false
   },
   "outputs": [],
   "source": [
    "#get currencies\n",
    "cr=pd.read_html('https://coinmarketcap.com/exchanges/hitbtc/')[0]\n",
    "cr=cr[1:]\n",
    "cr['c']=[float(i[1:].replace(',','')) for i in cr[3]]\n",
    "minvol=100000\n",
    "currencys=cr[cr['c']>minvol][1].values\n",
    "currencys"
   ]
  },
  {
   "cell_type": "code",
   "execution_count": null,
   "metadata": {
    "collapsed": true
   },
   "outputs": [],
   "source": [
    "cv=pd.read_json('https://api.coinmarketcap.com/v1/ticker/?limit=300')"
   ]
  },
  {
   "cell_type": "code",
   "execution_count": null,
   "metadata": {
    "collapsed": false
   },
   "outputs": [],
   "source": [
    "currencies=['bitcoin-cash','trackr','openanx','blackmoon-crypto','qtum','neo','stratis','bancor',\\\n",
    "           'monetha','eos','nem']\n",
    "currencies=cv['id'].values[1:]\n",
    "exchanges=['HitBTC','Bittrex','COSS','WEX','Binance','Allcoin','LiteBit.eu','GDAX','EtherDelta']\n",
    "df=[]\n",
    "for c in currencies:\n",
    "    print c,\n",
    "    url='https://coinmarketcap.com/currencies/'+c+'/#markets'\n",
    "    df.append(pd.read_html(url)[0])"
   ]
  },
  {
   "cell_type": "code",
   "execution_count": null,
   "metadata": {
    "collapsed": false
   },
   "outputs": [],
   "source": [
    "best=[]\n",
    "for j in range(len(currencies)):\n",
    "    curr='BTC'\n",
    "    d=df[j].loc[[i for i in df[j].index if df[j]['Source'][i] in exchanges]]\n",
    "    d=d.loc[[i for i in d.index if curr in d['Pair'][i]]]\n",
    "    d['p']=[float(i.replace('*','').strip()[1:]) for i in d['Price']]\n",
    "    d['v']=[float(i.replace('*','').strip()[1:].replace(',','')) for i in d['Volume (24h)']]\n",
    "    minvol=10000\n",
    "    d=d[d['v']>minvol].sort_values('p')\n",
    "    print j,\n",
    "    try:\n",
    "        best.append({\"j\":j,\"vol(k)\":min(d['v'].values[0],d['v'].values[-1])/1000.0,\"cu\":currencies[j],\"v\":d['p'].values[-1]*100/d['p'].values[0]-100,\\\n",
    "                     \"sell\":d['Source'].values[0],\"buy\":d['Source'].values[-1]})\n",
    "    except: pass"
   ]
  },
  {
   "cell_type": "code",
   "execution_count": null,
   "metadata": {
    "collapsed": false
   },
   "outputs": [],
   "source": [
    "pd.DataFrame(best).sort_values('v',ascending=False).head(10)"
   ]
  },
  {
   "cell_type": "code",
   "execution_count": 206,
   "metadata": {
    "collapsed": true
   },
   "outputs": [],
   "source": [
    "#speed 1-5\n",
    "#EDG 25 min\n",
    "#PPC 50 min\n",
    "#DOGE 10 min\n",
    "\n"
   ]
  },
  {
   "cell_type": "code",
   "execution_count": null,
   "metadata": {
    "collapsed": true
   },
   "outputs": [],
   "source": []
  }
 ],
 "metadata": {
  "anaconda-cloud": {},
  "kernelspec": {
   "display_name": "Python [conda root]",
   "language": "python",
   "name": "conda-root-py"
  },
  "language_info": {
   "codemirror_mode": {
    "name": "ipython",
    "version": 2
   },
   "file_extension": ".py",
   "mimetype": "text/x-python",
   "name": "python",
   "nbconvert_exporter": "python",
   "pygments_lexer": "ipython2",
   "version": "2.7.13"
  }
 },
 "nbformat": 4,
 "nbformat_minor": 1
}
