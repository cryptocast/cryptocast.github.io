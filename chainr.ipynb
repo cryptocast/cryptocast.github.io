{
 "cells": [
  {
   "cell_type": "code",
   "execution_count": 1,
   "metadata": {
    "collapsed": true
   },
   "outputs": [],
   "source": [
    "import pandas as pd, matplotlib.pyplot as plt"
   ]
  },
  {
   "cell_type": "code",
   "execution_count": 2,
   "metadata": {
    "collapsed": false
   },
   "outputs": [
    {
     "data": {
      "text/plain": [
       "array([u'Bitcoin Cash', u'Bitcoin', u'Ethereum', u'Dash', u'Monero',\n",
       "       u'Zcash', u'Litecoin', u'Bitcoin Gold', u'DigitalNote', u'Ripple',\n",
       "       u'Ethereum', u'Bitcoin Cash', u'Dogecoin', u'Nxt', u'Bytecoin',\n",
       "       u'NEM', u'Litecoin', u'Dash', u'Dent', u'TRON', u'Bitcoin Cash',\n",
       "       u'Monero', u'NEO', u'EOS', u'Zcash', u'Verge', u'EOS',\n",
       "       u'Bitcoin Gold', u'Ardor', u'Eroscoin', u'NEO', u'Lisk',\n",
       "       u'Ethereum Classic', u'Bytecoin', u'Dogecoin', u'DigitalNote',\n",
       "       u'Tezos (Pre-Launch)', u'NEM', u'Verge', u'Hive', u'Stox',\n",
       "       u'MaidSafeCoin', u'Ethereum Classic', u'Monero', u'TRON', u'TRON',\n",
       "       u'Stratis', u'Nxt', u'DigiByte', u'MyBit Token', u'Polybius',\n",
       "       u'Nxt', u'Centra', u'Viberate', u'Bancor', u'SportyFi',\n",
       "       u'SunContract', u'Bitcoin Gold', u'Tezos (Pre-Launch)',\n",
       "       u'MaidSafeCoin', u'LAToken', u'Status', u'EOS', u'Loopring',\n",
       "       u'Litecoin', u'AdEx', u'Edgeless', u'Verge', u'NEM', u'Dogecoin',\n",
       "       u'Stratis', u'Viberate', u'Dash', u'Cappasity', u'Cryptonex',\n",
       "       u'Substratum', u'Status', u'Hive', u'iXledger', u'VeChain',\n",
       "       u'Exchange Union', u'Tezos (Pre-Launch)', u'CoinDash', u'Ripple',\n",
       "       u'Zcash', u'SegWit2x [Futures]', u'Cindicator', u'iXledger',\n",
       "       u'ICON', u'NEO', u'0x', u'VIBE', u'0x', u'Stox', u'Exchange Union',\n",
       "       u'Bancor', u'Ethereum Classic', u'SegWit2x [Futures]', u'Cappasity',\n",
       "       u'Bytecoin', u'Po.et', u'Populous', u'Aeon', u'Peercoin',\n",
       "       u'DigiByte', u'Stox', u'Siacoin'], dtype=object)"
      ]
     },
     "execution_count": 2,
     "metadata": {},
     "output_type": "execute_result"
    }
   ],
   "source": [
    "#get currencies\n",
    "cr=pd.read_html('https://coinmarketcap.com/exchanges/hitbtc/')[0]\n",
    "cr=cr[1:]\n",
    "cr['c']=[float(i[1:].replace(',','')) for i in cr[3]]\n",
    "minvol=100000\n",
    "currencys=cr[cr['c']>minvol][1].values\n",
    "currencys"
   ]
  },
  {
   "cell_type": "code",
   "execution_count": 3,
   "metadata": {
    "collapsed": true
   },
   "outputs": [],
   "source": [
    "cv=pd.read_json('https://api.coinmarketcap.com/v1/ticker/?limit=300')"
   ]
  },
  {
   "cell_type": "code",
   "execution_count": 9,
   "metadata": {
    "collapsed": false
   },
   "outputs": [
    {
     "name": "stdout",
     "output_type": "stream",
     "text": [
      "ethereum bitcoin-cash ripple litecoin cardano iota dash nem monero bitcoin-gold stellar eos neo ethereum-classic tron bitconnect qtum populous lisk omisego zcash waves tether stratis bitshares ardor verge hshare nxt bytecoin-bcn dogecoin monacoin status ark binance-coin veritaseum steem decred siacoin salt komodo augur digibyte einsteinium pivx golem-network-tokens qash byteball vertcoin tenx digixdao aeternity basic-attention-token electroneum vechain raiblocks factom kyber-network bytom iconomi walton santiment maidsafecoin cryptonex syscoin power-ledger gas decentraland bitcoindark zcoin 0x raiden-network-token gxshares gnosis-gno nexus funfair paypie streamr-datacoin gamecredits request-network monaco civic dragonchain bancor dent nav-coin metal substratum metaverse edgeless peercoin chainlink revain bitbay storj blocknet rchain skycoin enjin-coin pura quantstamp aion ink ripio-credit-network ethos achain time-new-bank minexcoin ubiq cobinhood zencash wabi sonm singulardtv adx-net attention-token-of-media groestlcoin quantum-resistant-ledger counterparty asch aragon yoyow reddcoin loopring particl jinn smartcash feathercoin potcoin kin lykke pepe-cash viacoin xp rlc rise voxels mercury mobilego kucoin-shares eidoo namecoin enigma-project aeon xtrabytes humaniq wings faircoin whitecoin poet tierion centra cofound-it emercoin coindash safe-exchange-coin library-credit agoras-tokens cloakcoin ethlend neblio hive pillar crown burst paypex firstblood district0x cindicator delphy amber airswap melon ion blocktix open-trading-network red-pulse modum zeusshield blockv diamond bridgecoin taas wagerr digitalnote gulden sibcoin guppy iocoin okcash etherparty steem-dollars trust decent bitcore spankchain shift omni moeda-loyalty-points russian-mining-coin elastic blackcoin bodhi gridcoin grid salus firstcoin xplay credo numeraire viberate nolimitcoin triggers monetaryunit agrello-delta bitcny presearch synereo stox monetha hempcoin vericoin obits ixledger genesis-vision gambit bitdice dentacoin atbcoin golos oraclechain global-currency-reserve everex rubycoin aventus waves-community-token icos phore pascal-coin adtoken radium bitsend florincoin neoscoin databits exchange-union bcap leocoin clams mooncoin nimiq transfercoin patientory domraider primas unikoin-gold expanse the-champcoin tokencard paragon heat-ledger soarcoin bitqy etheroll suncontract polybius lomocoin unobtanium rialto kickico casinocoin mothership swarm-city solarcoin maecenas mysterium foldingcoin xaurum fedoracoin rivetz spectrecoin alis nvo bitzeny bitbean incent boolberry vcash musicoin peerplays-ppy bitmark encryptotel nushares deeponion energycoin lunyr nexium novacoin sphere\n"
     ]
    }
   ],
   "source": [
    "currencies=['bitcoin-cash','trackr','openanx','blackmoon-crypto','qtum','neo','stratis','bancor',\\\n",
    "           'monetha','eos','nem']\n",
    "currencies=cv['id'].values[1:]\n",
    "exchanges=['HitBTC','Bittrex','COSS','WEX','Binance','Allcoin','LiteBit.eu','GDAX','EtherDelta']\n",
    "df=[]\n",
    "for c in currencies:\n",
    "    print c,\n",
    "    url='https://coinmarketcap.com/currencies/'+c+'/#markets'\n",
    "    df.append(pd.read_html(url)[0])"
   ]
  },
  {
   "cell_type": "code",
   "execution_count": 10,
   "metadata": {
    "collapsed": false
   },
   "outputs": [
    {
     "name": "stdout",
     "output_type": "stream",
     "text": [
      "0 1 2 3 4 5 6 7 8 9 10 11 12 13 14 15 16 17 18 19 20 21 22 23 24 25 26 27 28 29 30 31 32 33 34 35 36 37 38 39 40 41 42 43 44 45 46 47 48 49 50 51 52 53 54 55 56 57 58 59 60 61 62 63 64 65 66 67 68 69 70 71 72 73 74 75 76 77 78 79 80 81 82 83 84 85 86 87 88 89 90 91 92 93 94 95 96 97 98 99 100 101 102 103 104 105 106 107 108 109 110 111 112 113 114 115 116 117 118 119 120 121 122 123 124 125 126 127 128 129 130 131 132 133 134 135 136 137 138 139 140 141 142 143 144 145 146 147 148 149 150 151 152 153 154 155 156 157 158 159 160 161 162 163 164 165 166 167 168 169 170 171 172 173 174 175 176 177 178 179 180 181 182 183 184 185 186 187 188 189 190 191 192 193 194 195 196 197 198 199 200 201 202 203 204 205 206 207 208 209 210 211 212 213 214 215 216 217 218 219 220 221 222 223 224 225 226 227 228 229 230 231 232 233 234 235 236 237 238 239 240 241 242 243 244 245 246 247 248 249 250 251 252 253 254 255 256 257 258 259 260 261 262 263 264 265 266 267 268 269 270 271 272 273 274 275 276 277 278 279 280 281 282 283 284 285 286 287 288 289 290 291 292 293 294 295 296 297 298\n"
     ]
    }
   ],
   "source": [
    "best=[]\n",
    "for j in range(len(currencies)):\n",
    "    curr='BTC'\n",
    "    d=df[j].loc[[i for i in df[j].index if df[j]['Source'][i] in exchanges]]\n",
    "    d=d.loc[[i for i in d.index if curr in d['Pair'][i]]]\n",
    "    d['p']=[float(i.replace('*','').strip()[1:]) for i in d['Price']]\n",
    "    d['v']=[float(i.replace('*','').strip()[1:].replace(',','')) for i in d['Volume (24h)']]\n",
    "    minvol=10000\n",
    "    d=d[d['v']>minvol].sort_values('p')\n",
    "    print j,\n",
    "    try:\n",
    "        best.append({\"j\":j,\"vol(k)\":min(d['v'].values[0],d['v'].values[-1])/1000.0,\"cu\":currencies[j],\"v\":d['p'].values[-1]*100/d['p'].values[0]-100,\\\n",
    "                     \"sell\":d['Source'].values[0],\"buy\":d['Source'].values[-1]})\n",
    "    except: pass"
   ]
  },
  {
   "cell_type": "code",
   "execution_count": 6,
   "metadata": {
    "collapsed": false
   },
   "outputs": [
    {
     "data": {
      "text/html": [
       "<div>\n",
       "<table border=\"1\" class=\"dataframe\">\n",
       "  <thead>\n",
       "    <tr style=\"text-align: right;\">\n",
       "      <th></th>\n",
       "      <th>buy</th>\n",
       "      <th>cu</th>\n",
       "      <th>j</th>\n",
       "      <th>sell</th>\n",
       "      <th>v</th>\n",
       "      <th>vol(k)</th>\n",
       "    </tr>\n",
       "  </thead>\n",
       "  <tbody>\n",
       "    <tr>\n",
       "      <th>42</th>\n",
       "      <td>HitBTC</td>\n",
       "      <td>digibyte</td>\n",
       "      <td>42</td>\n",
       "      <td>Bittrex</td>\n",
       "      <td>29.310720</td>\n",
       "      <td>830.906</td>\n",
       "    </tr>\n",
       "    <tr>\n",
       "      <th>58</th>\n",
       "      <td>Bittrex</td>\n",
       "      <td>maidsafecoin</td>\n",
       "      <td>62</td>\n",
       "      <td>HitBTC</td>\n",
       "      <td>28.285994</td>\n",
       "      <td>907.684</td>\n",
       "    </tr>\n",
       "    <tr>\n",
       "      <th>38</th>\n",
       "      <td>HitBTC</td>\n",
       "      <td>siacoin</td>\n",
       "      <td>38</td>\n",
       "      <td>Bittrex</td>\n",
       "      <td>15.933089</td>\n",
       "      <td>102.066</td>\n",
       "    </tr>\n",
       "    <tr>\n",
       "      <th>21</th>\n",
       "      <td>HitBTC</td>\n",
       "      <td>waves</td>\n",
       "      <td>21</td>\n",
       "      <td>Bittrex</td>\n",
       "      <td>15.837104</td>\n",
       "      <td>37.047</td>\n",
       "    </tr>\n",
       "    <tr>\n",
       "      <th>139</th>\n",
       "      <td>HitBTC</td>\n",
       "      <td>cindicator</td>\n",
       "      <td>168</td>\n",
       "      <td>Binance</td>\n",
       "      <td>13.634274</td>\n",
       "      <td>20.001</td>\n",
       "    </tr>\n",
       "    <tr>\n",
       "      <th>23</th>\n",
       "      <td>HitBTC</td>\n",
       "      <td>stratis</td>\n",
       "      <td>23</td>\n",
       "      <td>Bittrex</td>\n",
       "      <td>12.429907</td>\n",
       "      <td>318.481</td>\n",
       "    </tr>\n",
       "    <tr>\n",
       "      <th>96</th>\n",
       "      <td>HitBTC</td>\n",
       "      <td>singulardtv</td>\n",
       "      <td>113</td>\n",
       "      <td>Bittrex</td>\n",
       "      <td>8.666194</td>\n",
       "      <td>42.496</td>\n",
       "    </tr>\n",
       "    <tr>\n",
       "      <th>125</th>\n",
       "      <td>HitBTC</td>\n",
       "      <td>centra</td>\n",
       "      <td>151</td>\n",
       "      <td>Binance</td>\n",
       "      <td>8.541824</td>\n",
       "      <td>695.690</td>\n",
       "    </tr>\n",
       "    <tr>\n",
       "      <th>138</th>\n",
       "      <td>Binance</td>\n",
       "      <td>district0x</td>\n",
       "      <td>167</td>\n",
       "      <td>HitBTC</td>\n",
       "      <td>7.501201</td>\n",
       "      <td>28.209</td>\n",
       "    </tr>\n",
       "    <tr>\n",
       "      <th>27</th>\n",
       "      <td>Binance</td>\n",
       "      <td>hshare</td>\n",
       "      <td>27</td>\n",
       "      <td>Allcoin</td>\n",
       "      <td>7.002938</td>\n",
       "      <td>8185.830</td>\n",
       "    </tr>\n",
       "  </tbody>\n",
       "</table>\n",
       "</div>"
      ],
      "text/plain": [
       "         buy            cu    j     sell          v    vol(k)\n",
       "42    HitBTC      digibyte   42  Bittrex  29.310720   830.906\n",
       "58   Bittrex  maidsafecoin   62   HitBTC  28.285994   907.684\n",
       "38    HitBTC       siacoin   38  Bittrex  15.933089   102.066\n",
       "21    HitBTC         waves   21  Bittrex  15.837104    37.047\n",
       "139   HitBTC    cindicator  168  Binance  13.634274    20.001\n",
       "23    HitBTC       stratis   23  Bittrex  12.429907   318.481\n",
       "96    HitBTC   singulardtv  113  Bittrex   8.666194    42.496\n",
       "125   HitBTC        centra  151  Binance   8.541824   695.690\n",
       "138  Binance    district0x  167   HitBTC   7.501201    28.209\n",
       "27   Binance        hshare   27  Allcoin   7.002938  8185.830"
      ]
     },
     "execution_count": 6,
     "metadata": {},
     "output_type": "execute_result"
    }
   ],
   "source": [
    "pd.DataFrame(best).sort_values('v',ascending=False).head(10)"
   ]
  },
  {
   "cell_type": "code",
   "execution_count": 7,
   "metadata": {
    "collapsed": false
   },
   "outputs": [
    {
     "data": {
      "text/html": [
       "<div>\n",
       "<table border=\"1\" class=\"dataframe\">\n",
       "  <thead>\n",
       "    <tr style=\"text-align: right;\">\n",
       "      <th></th>\n",
       "      <th>buy</th>\n",
       "      <th>cu</th>\n",
       "      <th>j</th>\n",
       "      <th>sell</th>\n",
       "      <th>v</th>\n",
       "      <th>vol(k)</th>\n",
       "    </tr>\n",
       "  </thead>\n",
       "  <tbody>\n",
       "    <tr>\n",
       "      <th>42</th>\n",
       "      <td>HitBTC</td>\n",
       "      <td>digibyte</td>\n",
       "      <td>42</td>\n",
       "      <td>Bittrex</td>\n",
       "      <td>29.310720</td>\n",
       "      <td>830.906</td>\n",
       "    </tr>\n",
       "    <tr>\n",
       "      <th>58</th>\n",
       "      <td>Bittrex</td>\n",
       "      <td>maidsafecoin</td>\n",
       "      <td>62</td>\n",
       "      <td>HitBTC</td>\n",
       "      <td>28.285994</td>\n",
       "      <td>907.684</td>\n",
       "    </tr>\n",
       "    <tr>\n",
       "      <th>38</th>\n",
       "      <td>HitBTC</td>\n",
       "      <td>siacoin</td>\n",
       "      <td>38</td>\n",
       "      <td>Bittrex</td>\n",
       "      <td>15.933089</td>\n",
       "      <td>102.066</td>\n",
       "    </tr>\n",
       "    <tr>\n",
       "      <th>21</th>\n",
       "      <td>HitBTC</td>\n",
       "      <td>waves</td>\n",
       "      <td>21</td>\n",
       "      <td>Bittrex</td>\n",
       "      <td>15.837104</td>\n",
       "      <td>37.047</td>\n",
       "    </tr>\n",
       "    <tr>\n",
       "      <th>139</th>\n",
       "      <td>HitBTC</td>\n",
       "      <td>cindicator</td>\n",
       "      <td>168</td>\n",
       "      <td>Binance</td>\n",
       "      <td>13.634274</td>\n",
       "      <td>20.001</td>\n",
       "    </tr>\n",
       "    <tr>\n",
       "      <th>23</th>\n",
       "      <td>HitBTC</td>\n",
       "      <td>stratis</td>\n",
       "      <td>23</td>\n",
       "      <td>Bittrex</td>\n",
       "      <td>12.429907</td>\n",
       "      <td>318.481</td>\n",
       "    </tr>\n",
       "    <tr>\n",
       "      <th>96</th>\n",
       "      <td>HitBTC</td>\n",
       "      <td>singulardtv</td>\n",
       "      <td>113</td>\n",
       "      <td>Bittrex</td>\n",
       "      <td>8.666194</td>\n",
       "      <td>42.496</td>\n",
       "    </tr>\n",
       "    <tr>\n",
       "      <th>125</th>\n",
       "      <td>HitBTC</td>\n",
       "      <td>centra</td>\n",
       "      <td>151</td>\n",
       "      <td>Binance</td>\n",
       "      <td>8.541824</td>\n",
       "      <td>695.690</td>\n",
       "    </tr>\n",
       "    <tr>\n",
       "      <th>138</th>\n",
       "      <td>Binance</td>\n",
       "      <td>district0x</td>\n",
       "      <td>167</td>\n",
       "      <td>HitBTC</td>\n",
       "      <td>7.501201</td>\n",
       "      <td>28.209</td>\n",
       "    </tr>\n",
       "    <tr>\n",
       "      <th>27</th>\n",
       "      <td>Binance</td>\n",
       "      <td>hshare</td>\n",
       "      <td>27</td>\n",
       "      <td>Allcoin</td>\n",
       "      <td>7.002938</td>\n",
       "      <td>8185.830</td>\n",
       "    </tr>\n",
       "  </tbody>\n",
       "</table>\n",
       "</div>"
      ],
      "text/plain": [
       "         buy            cu    j     sell          v    vol(k)\n",
       "42    HitBTC      digibyte   42  Bittrex  29.310720   830.906\n",
       "58   Bittrex  maidsafecoin   62   HitBTC  28.285994   907.684\n",
       "38    HitBTC       siacoin   38  Bittrex  15.933089   102.066\n",
       "21    HitBTC         waves   21  Bittrex  15.837104    37.047\n",
       "139   HitBTC    cindicator  168  Binance  13.634274    20.001\n",
       "23    HitBTC       stratis   23  Bittrex  12.429907   318.481\n",
       "96    HitBTC   singulardtv  113  Bittrex   8.666194    42.496\n",
       "125   HitBTC        centra  151  Binance   8.541824   695.690\n",
       "138  Binance    district0x  167   HitBTC   7.501201    28.209\n",
       "27   Binance        hshare   27  Allcoin   7.002938  8185.830"
      ]
     },
     "execution_count": 7,
     "metadata": {},
     "output_type": "execute_result"
    }
   ],
   "source": [
    "pd.DataFrame(best).sort_values('v',ascending=False).head(10)"
   ]
  },
  {
   "cell_type": "code",
   "execution_count": 206,
   "metadata": {
    "collapsed": true
   },
   "outputs": [],
   "source": [
    "#speed 1-5\n",
    "#EDG 25 min\n",
    "#PPC 50 min\n",
    "#DOGE 10 min\n",
    "\n"
   ]
  },
  {
   "cell_type": "code",
   "execution_count": null,
   "metadata": {
    "collapsed": true
   },
   "outputs": [],
   "source": []
  }
 ],
 "metadata": {
  "anaconda-cloud": {},
  "kernelspec": {
   "display_name": "Python [conda root]",
   "language": "python",
   "name": "conda-root-py"
  },
  "language_info": {
   "codemirror_mode": {
    "name": "ipython",
    "version": 2
   },
   "file_extension": ".py",
   "mimetype": "text/x-python",
   "name": "python",
   "nbconvert_exporter": "python",
   "pygments_lexer": "ipython2",
   "version": "2.7.12"
  }
 },
 "nbformat": 4,
 "nbformat_minor": 1
}
